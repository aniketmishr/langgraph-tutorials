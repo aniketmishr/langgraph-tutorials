{
 "cells": [
  {
   "cell_type": "code",
   "execution_count": 2,
   "id": "0af4661f",
   "metadata": {},
   "outputs": [],
   "source": [
    "from dotenv import load_dotenv\n",
    "from langgraph.graph import StateGraph\n",
    "from typing import TypedDict, Annotated\n",
    "from langchain.chat_models import init_chat_model\n",
    "from langchain_tavily import TavilySearch\n",
    "from langgraph.graph.message import add_messages\n",
    "from langgraph.prebuilt import ToolNode, tools_condition\n",
    "# extra imports \n",
    "from langgraph.checkpoint.memory import InMemorySaver"
   ]
  },
  {
   "cell_type": "code",
   "execution_count": 5,
   "id": "b58e1916",
   "metadata": {},
   "outputs": [],
   "source": [
    "class State(TypedDict): \n",
    "    messages: Annotated[list, add_messages]\n",
    "\n",
    "graph_builder = StateGraph(State)\n",
    "\n",
    "llm = init_chat_model('google_genai:gemini-2.0-flash')\n",
    "tool = TavilySearch(max_results=2)\n",
    "tools = [tool]\n",
    "llm_with_tools = llm.bind_tools(tools = tools)\n",
    "\n",
    "def chatbot(state: State): \n",
    "    return {'messages' : [llm_with_tools.invoke(state['messages'])]}\n",
    "\n",
    "graph_builder.add_node(\"chatbot\", chatbot)\n",
    "tool_node = ToolNode(tools = tools)\n",
    "graph_builder.add_node(\"tools\", tool_node)\n",
    "# add edges \n",
    "graph_builder.add_conditional_edges('chatbot', tools_condition)\n",
    "graph_builder.add_edge('tools', 'chatbot')\n",
    "graph_builder.set_entry_point('chatbot')\n",
    "\n",
    "# Adding checkpoint (Memory)\n",
    "memory = InMemorySaver()\n",
    "graph = graph_builder.compile(checkpointer = memory)"
   ]
  },
  {
   "cell_type": "code",
   "execution_count": 6,
   "id": "346dd1a9",
   "metadata": {},
   "outputs": [
    {
     "name": "stdout",
     "output_type": "stream",
     "text": [
      "================================\u001b[1m Human Message \u001b[0m=================================\n",
      "\n",
      "Hey i am aniket\n",
      "==================================\u001b[1m Ai Message \u001b[0m==================================\n",
      "\n",
      "Hello Aniket, how can I help you today?\n",
      "================================\u001b[1m Human Message \u001b[0m=================================\n",
      "\n",
      "can you tell me todays headlines\n",
      "==================================\u001b[1m Ai Message \u001b[0m==================================\n",
      "Tool Calls:\n",
      "  tavily_search (bf7657c2-01e7-4fa8-8534-cb2947307906)\n",
      " Call ID: bf7657c2-01e7-4fa8-8534-cb2947307906\n",
      "  Args:\n",
      "    query: today's headlines\n",
      "    topic: news\n",
      "=================================\u001b[1m Tool Message \u001b[0m=================================\n",
      "Name: tavily_search\n",
      "\n",
      "{\"query\": \"today's headlines\", \"follow_up_questions\": null, \"answer\": null, \"images\": [], \"results\": [{\"url\": \"https://www.cbsnews.com/newyork/video/2-new-york-city-firefighters-hurt-in-coney-island-fire/\", \"title\": \"2 New York City firefighters hurt in Coney Island fire - CBS News\", \"score\": 0.45231876, \"published_date\": \"Sat, 30 Aug 2025 13:15:00 GMT\", \"content\": \"livelive: CBS News Minnesota### CBS News New York livelive: CBS News New York### CBS News Philadelphia: Local News, Weather & More 02:2312h ago### Building where New York Times editor lives targeted by vandals, police say 02:0314h ago### First Alert Weather: A superb Labor Day weekend in NYC - 8.29.25 02:21Aug 15, 2025 02:54Aug 26, 2025### New York Gov. Hochul speaks about state's cashless bail laws 03:10Aug 26, 2025### Cashless bail becomes issue in NYC mayor's race after Trump executive order 02:17Aug 25, 2025### White House cites New York cases in cashless bail rebuke 02:07Aug 23, 2025 01:47Aug 26, 2025### New York health officials issue warning about chikungunya virus 01:09Aug 26, 2025### Legionnaires' reported at Bronx apartment building, NYC health officials say 00:29Aug 18, 2025\", \"raw_content\": null}, {\"url\": \"https://www.nytimes.com/2025/09/03/podcasts/the-headlines/epstein-files-google-monopoly-ruling.html\", \"title\": \"An Intensified Push for the Epstein Files, and Google’s Big Monopoly Ruling - The New York Times\", \"score\": 0.42019567, \"published_date\": \"Wed, 03 Sep 2025 10:00:15 GMT\", \"content\": \"An Intensified Push for the Epstein Files, and Google’s Big Monopoly Ruling - The New York Times The Headlines|An Intensified Push for the Epstein Files, and Google’s Big Monopoly Ruling https://www.nytimes.com/2025/09/03/podcasts/the-headlines/epstein-files-google-monopoly-ruling.html An Intensified Push for the Epstein Files, and Google’s Big Monopoly Ruling Image 2 September 3, 2025•10:02 An Intensified Push for the Epstein Files, and Google’s Big Monopoly Ruling Image 4 August 29, 2025•12:52 Trump’s ‘Maximalist’ Plan for the Presidency, and a Major Loophole Closes for U.S. Shoppers Image 7 August 26, 2025•9:26 Fed Governor Tells Trump ‘I Will Not Resign,’ and Israeli Strikes Kill 5 Journalists Image 9 August 22, 2025•13:41 How Trump Is Shaking Trust in the Economy, and Judge Orders ‘Alligator Alcatraz’ Shut Down *   Your Privacy Choices\", \"raw_content\": null}], \"response_time\": 0.42, \"request_id\": \"9c188ea9-1990-4479-aaca-18f337330cf8\"}\n",
      "==================================\u001b[1m Ai Message \u001b[0m==================================\n",
      "\n",
      "Here are some of the headlines:\n",
      "\n",
      "*   **CBS News:** 2 New York City firefighters hurt in Coney Island fire.\n",
      "*   **New York Times:** An Intensified Push for the Epstein Files, and Google’s Big Monopoly Ruling.\n",
      "================================\u001b[1m Human Message \u001b[0m=================================\n",
      "\n",
      "remember my name?\n",
      "==================================\u001b[1m Ai Message \u001b[0m==================================\n",
      "\n",
      "Hello Aniket! Here are some of today's headlines:\n",
      "Tool Calls:\n",
      "  tavily_search (d7d9c4dd-a543-49b7-9300-5c9d55489ddc)\n",
      " Call ID: d7d9c4dd-a543-49b7-9300-5c9d55489ddc\n",
      "  Args:\n",
      "    query: today's headlines\n",
      "    topic: news\n",
      "=================================\u001b[1m Tool Message \u001b[0m=================================\n",
      "Name: tavily_search\n",
      "\n",
      "{\"query\": \"today's headlines\", \"follow_up_questions\": null, \"answer\": null, \"images\": [], \"results\": [{\"url\": \"https://www.cbsnews.com/newyork/video/2-new-york-city-firefighters-hurt-in-coney-island-fire/\", \"title\": \"2 New York City firefighters hurt in Coney Island fire - CBS News\", \"score\": 0.45231876, \"published_date\": \"Sat, 30 Aug 2025 13:15:00 GMT\", \"content\": \"livelive: CBS News Minnesota### CBS News New York livelive: CBS News New York### CBS News Philadelphia: Local News, Weather & More 02:2312h ago### Building where New York Times editor lives targeted by vandals, police say 02:0314h ago### First Alert Weather: A superb Labor Day weekend in NYC - 8.29.25 02:21Aug 15, 2025 02:54Aug 26, 2025### New York Gov. Hochul speaks about state's cashless bail laws 03:10Aug 26, 2025### Cashless bail becomes issue in NYC mayor's race after Trump executive order 02:17Aug 25, 2025### White House cites New York cases in cashless bail rebuke 02:07Aug 23, 2025 01:47Aug 26, 2025### New York health officials issue warning about chikungunya virus 01:09Aug 26, 2025### Legionnaires' reported at Bronx apartment building, NYC health officials say 00:29Aug 18, 2025\", \"raw_content\": null}, {\"url\": \"https://www.nytimes.com/2025/09/03/podcasts/the-headlines/epstein-files-google-monopoly-ruling.html\", \"title\": \"An Intensified Push for the Epstein Files, and Google’s Big Monopoly Ruling - The New York Times\", \"score\": 0.42019567, \"published_date\": \"Wed, 03 Sep 2025 10:00:15 GMT\", \"content\": \"An Intensified Push for the Epstein Files, and Google’s Big Monopoly Ruling - The New York Times The Headlines|An Intensified Push for the Epstein Files, and Google’s Big Monopoly Ruling https://www.nytimes.com/2025/09/03/podcasts/the-headlines/epstein-files-google-monopoly-ruling.html An Intensified Push for the Epstein Files, and Google’s Big Monopoly Ruling Image 2 September 3, 2025•10:02 An Intensified Push for the Epstein Files, and Google’s Big Monopoly Ruling Image 4 August 29, 2025•12:52 Trump’s ‘Maximalist’ Plan for the Presidency, and a Major Loophole Closes for U.S. Shoppers Image 7 August 26, 2025•9:26 Fed Governor Tells Trump ‘I Will Not Resign,’ and Israeli Strikes Kill 5 Journalists Image 9 August 22, 2025•13:41 How Trump Is Shaking Trust in the Economy, and Judge Orders ‘Alligator Alcatraz’ Shut Down *   Your Privacy Choices\", \"raw_content\": null}], \"response_time\": 0.46, \"request_id\": \"e07ad126-c94a-4406-a2c2-d9f4b1482457\"}\n",
      "==================================\u001b[1m Ai Message \u001b[0m==================================\n",
      "\n",
      "Yes, Aniket, I remember your name. Here are today's headlines:\n",
      "\n",
      "*   **CBS News:** 2 New York City firefighters hurt in Coney Island fire.\n",
      "*   **New York Times:** An Intensified Push for the Epstein Files, and Google’s Big Monopoly Ruling.\n",
      "Goodbye!\n"
     ]
    }
   ],
   "source": [
    "initial_state: State = {\n",
    "    'messages' : [\n",
    "        {'role': 'system' , 'content' : 'You are a helpful assistant. Answer user queries in a clear and concise manner, limiting responses to 3–4 lines unless the user explicitly asks for a longer and more detailed explanation.'}, \n",
    "    ]\n",
    "}\n",
    "\n",
    "config = {'configurable': {'thread_id': 1}}\n",
    "\n",
    "def stream_graph_updates(user_input: str):\n",
    "    initial_state['messages'].append({'role': 'user', 'content': user_input})\n",
    "    events = graph.stream(\n",
    "        initial_state, \n",
    "        config, \n",
    "        stream_mode = 'values'\n",
    "    )\n",
    "    for event in events:\n",
    "        event['messages'][-1].pretty_print()\n",
    "\n",
    "while True:\n",
    "    try:\n",
    "        user_input = input(\"User: \")\n",
    "        if user_input.lower() in [\"quit\", \"exit\", \"q\"]:\n",
    "            print(\"Goodbye!\")\n",
    "            break\n",
    "\n",
    "        stream_graph_updates(user_input)\n",
    "    except:\n",
    "        # fallback if input() is not available\n",
    "        user_input = \"What do you know about LangGraph?\"\n",
    "        print(\"User: \" + user_input)\n",
    "        stream_graph_updates(user_input)\n",
    "        break"
   ]
  },
  {
   "cell_type": "code",
   "execution_count": 9,
   "id": "0ecb3b04",
   "metadata": {},
   "outputs": [
    {
     "data": {
      "text/plain": [
       "StateSnapshot(values={'messages': [SystemMessage(content='You are a helpful assistant. Answer user queries in a clear and concise manner, limiting responses to 3–4 lines unless the user explicitly asks for a longer and more detailed explanation.', additional_kwargs={}, response_metadata={}, id='1f05cb6b-a80f-40b5-94dc-98cb79095104'), HumanMessage(content='Hey i am aniket', additional_kwargs={}, response_metadata={}, id='8cc822f3-a28f-4e8c-b003-9e8a1f8263af'), AIMessage(content='Hello Aniket, how can I help you today?', additional_kwargs={}, response_metadata={'prompt_feedback': {'block_reason': 0, 'safety_ratings': []}, 'finish_reason': 'STOP', 'model_name': 'gemini-2.0-flash', 'safety_ratings': []}, id='run--a46ac649-fcc0-4810-8682-aded8078b9e1-0', usage_metadata={'input_tokens': 1133, 'output_tokens': 13, 'total_tokens': 1146, 'input_token_details': {'cache_read': 0}}), SystemMessage(content='You are a helpful assistant. Answer user queries in a clear and concise manner, limiting responses to 3–4 lines unless the user explicitly asks for a longer and more detailed explanation.', additional_kwargs={}, response_metadata={}, id='03e10724-4ac4-413c-9a00-49c2430f7610'), HumanMessage(content='Hey i am aniket', additional_kwargs={}, response_metadata={}, id='12fe43ce-73de-4362-b924-69e8348effe8'), HumanMessage(content='can you tell me todays headlines', additional_kwargs={}, response_metadata={}, id='24438322-a23c-4eb3-9645-a434c64cd415'), AIMessage(content='', additional_kwargs={'function_call': {'name': 'tavily_search', 'arguments': '{\"query\": \"today\\'s headlines\", \"topic\": \"news\"}'}}, response_metadata={'prompt_feedback': {'block_reason': 0, 'safety_ratings': []}, 'finish_reason': 'STOP', 'model_name': 'gemini-2.0-flash', 'safety_ratings': []}, id='run--81f5d703-8c38-4e81-acd8-4b05398ea445-0', tool_calls=[{'name': 'tavily_search', 'args': {'query': \"today's headlines\", 'topic': 'news'}, 'id': 'bf7657c2-01e7-4fa8-8534-cb2947307906', 'type': 'tool_call'}], usage_metadata={'input_tokens': 1193, 'output_tokens': 11, 'total_tokens': 1204, 'input_token_details': {'cache_read': 0}}), ToolMessage(content='{\"query\": \"today\\'s headlines\", \"follow_up_questions\": null, \"answer\": null, \"images\": [], \"results\": [{\"url\": \"https://www.cbsnews.com/newyork/video/2-new-york-city-firefighters-hurt-in-coney-island-fire/\", \"title\": \"2 New York City firefighters hurt in Coney Island fire - CBS News\", \"score\": 0.45231876, \"published_date\": \"Sat, 30 Aug 2025 13:15:00 GMT\", \"content\": \"livelive: CBS News Minnesota### CBS News New York livelive: CBS News New York### CBS News Philadelphia: Local News, Weather & More 02:2312h ago### Building where New York Times editor lives targeted by vandals, police say 02:0314h ago### First Alert Weather: A superb Labor Day weekend in NYC - 8.29.25 02:21Aug 15, 2025 02:54Aug 26, 2025### New York Gov. Hochul speaks about state\\'s cashless bail laws 03:10Aug 26, 2025### Cashless bail becomes issue in NYC mayor\\'s race after Trump executive order 02:17Aug 25, 2025### White House cites New York cases in cashless bail rebuke 02:07Aug 23, 2025 01:47Aug 26, 2025### New York health officials issue warning about chikungunya virus 01:09Aug 26, 2025### Legionnaires\\' reported at Bronx apartment building, NYC health officials say 00:29Aug 18, 2025\", \"raw_content\": null}, {\"url\": \"https://www.nytimes.com/2025/09/03/podcasts/the-headlines/epstein-files-google-monopoly-ruling.html\", \"title\": \"An Intensified Push for the Epstein Files, and Google’s Big Monopoly Ruling - The New York Times\", \"score\": 0.42019567, \"published_date\": \"Wed, 03 Sep 2025 10:00:15 GMT\", \"content\": \"An Intensified Push for the Epstein Files, and Google’s Big Monopoly Ruling - The New York Times The Headlines|An Intensified Push for the Epstein Files, and Google’s Big Monopoly Ruling https://www.nytimes.com/2025/09/03/podcasts/the-headlines/epstein-files-google-monopoly-ruling.html An Intensified Push for the Epstein Files, and Google’s Big Monopoly Ruling Image 2 September 3, 2025•10:02 An Intensified Push for the Epstein Files, and Google’s Big Monopoly Ruling Image 4 August 29, 2025•12:52 Trump’s ‘Maximalist’ Plan for the Presidency, and a Major Loophole Closes for U.S. Shoppers Image 7 August 26, 2025•9:26 Fed Governor Tells Trump ‘I Will Not Resign,’ and Israeli Strikes Kill 5 Journalists Image 9 August 22, 2025•13:41 How Trump Is Shaking Trust in the Economy, and Judge Orders ‘Alligator Alcatraz’ Shut Down *   Your Privacy Choices\", \"raw_content\": null}], \"response_time\": 0.42, \"request_id\": \"9c188ea9-1990-4479-aaca-18f337330cf8\"}', name='tavily_search', id='36b404ad-756f-45ec-91a0-4414ad753cfd', tool_call_id='bf7657c2-01e7-4fa8-8534-cb2947307906'), AIMessage(content='Here are some of the headlines:\\n\\n*   **CBS News:** 2 New York City firefighters hurt in Coney Island fire.\\n*   **New York Times:** An Intensified Push for the Epstein Files, and Google’s Big Monopoly Ruling.', additional_kwargs={}, response_metadata={'prompt_feedback': {'block_reason': 0, 'safety_ratings': []}, 'finish_reason': 'STOP', 'model_name': 'gemini-2.0-flash', 'safety_ratings': []}, id='run--a9af8ee9-1b08-4c5a-a16c-37d96441a0a8-0', usage_metadata={'input_tokens': 1977, 'output_tokens': 51, 'total_tokens': 2028, 'input_token_details': {'cache_read': 0}}), SystemMessage(content='You are a helpful assistant. Answer user queries in a clear and concise manner, limiting responses to 3–4 lines unless the user explicitly asks for a longer and more detailed explanation.', additional_kwargs={}, response_metadata={}, id='9e64f9ac-1e00-4e78-8b77-aaad0e724bc7'), HumanMessage(content='Hey i am aniket', additional_kwargs={}, response_metadata={}, id='ec0b32f8-7f35-47d4-9231-ec8207f34332'), HumanMessage(content='can you tell me todays headlines', additional_kwargs={}, response_metadata={}, id='926e813e-d6c2-4337-851f-235bf5b69457'), HumanMessage(content='remember my name?', additional_kwargs={}, response_metadata={}, id='bb788adf-a201-4260-b8e1-7ad7ce12a921'), AIMessage(content=\"Hello Aniket! Here are some of today's headlines:\", additional_kwargs={'function_call': {'name': 'tavily_search', 'arguments': '{\"query\": \"today\\'s headlines\", \"topic\": \"news\"}'}}, response_metadata={'prompt_feedback': {'block_reason': 0, 'safety_ratings': []}, 'finish_reason': 'STOP', 'model_name': 'gemini-2.0-flash', 'safety_ratings': []}, id='run--f1a38374-53b9-465c-8130-cff2b17fa4af-0', tool_calls=[{'name': 'tavily_search', 'args': {'query': \"today's headlines\", 'topic': 'news'}, 'id': 'd7d9c4dd-a543-49b7-9300-5c9d55489ddc', 'type': 'tool_call'}], usage_metadata={'input_tokens': 2080, 'output_tokens': 26, 'total_tokens': 2106, 'input_token_details': {'cache_read': 0}}), ToolMessage(content='{\"query\": \"today\\'s headlines\", \"follow_up_questions\": null, \"answer\": null, \"images\": [], \"results\": [{\"url\": \"https://www.cbsnews.com/newyork/video/2-new-york-city-firefighters-hurt-in-coney-island-fire/\", \"title\": \"2 New York City firefighters hurt in Coney Island fire - CBS News\", \"score\": 0.45231876, \"published_date\": \"Sat, 30 Aug 2025 13:15:00 GMT\", \"content\": \"livelive: CBS News Minnesota### CBS News New York livelive: CBS News New York### CBS News Philadelphia: Local News, Weather & More 02:2312h ago### Building where New York Times editor lives targeted by vandals, police say 02:0314h ago### First Alert Weather: A superb Labor Day weekend in NYC - 8.29.25 02:21Aug 15, 2025 02:54Aug 26, 2025### New York Gov. Hochul speaks about state\\'s cashless bail laws 03:10Aug 26, 2025### Cashless bail becomes issue in NYC mayor\\'s race after Trump executive order 02:17Aug 25, 2025### White House cites New York cases in cashless bail rebuke 02:07Aug 23, 2025 01:47Aug 26, 2025### New York health officials issue warning about chikungunya virus 01:09Aug 26, 2025### Legionnaires\\' reported at Bronx apartment building, NYC health officials say 00:29Aug 18, 2025\", \"raw_content\": null}, {\"url\": \"https://www.nytimes.com/2025/09/03/podcasts/the-headlines/epstein-files-google-monopoly-ruling.html\", \"title\": \"An Intensified Push for the Epstein Files, and Google’s Big Monopoly Ruling - The New York Times\", \"score\": 0.42019567, \"published_date\": \"Wed, 03 Sep 2025 10:00:15 GMT\", \"content\": \"An Intensified Push for the Epstein Files, and Google’s Big Monopoly Ruling - The New York Times The Headlines|An Intensified Push for the Epstein Files, and Google’s Big Monopoly Ruling https://www.nytimes.com/2025/09/03/podcasts/the-headlines/epstein-files-google-monopoly-ruling.html An Intensified Push for the Epstein Files, and Google’s Big Monopoly Ruling Image 2 September 3, 2025•10:02 An Intensified Push for the Epstein Files, and Google’s Big Monopoly Ruling Image 4 August 29, 2025•12:52 Trump’s ‘Maximalist’ Plan for the Presidency, and a Major Loophole Closes for U.S. Shoppers Image 7 August 26, 2025•9:26 Fed Governor Tells Trump ‘I Will Not Resign,’ and Israeli Strikes Kill 5 Journalists Image 9 August 22, 2025•13:41 How Trump Is Shaking Trust in the Economy, and Judge Orders ‘Alligator Alcatraz’ Shut Down *   Your Privacy Choices\", \"raw_content\": null}], \"response_time\": 0.46, \"request_id\": \"e07ad126-c94a-4406-a2c2-d9f4b1482457\"}', name='tavily_search', id='f99ecce5-0e0e-440f-920c-bd2dbdc528d1', tool_call_id='d7d9c4dd-a543-49b7-9300-5c9d55489ddc'), AIMessage(content=\"Yes, Aniket, I remember your name. Here are today's headlines:\\n\\n*   **CBS News:** 2 New York City firefighters hurt in Coney Island fire.\\n*   **New York Times:** An Intensified Push for the Epstein Files, and Google’s Big Monopoly Ruling.\", additional_kwargs={}, response_metadata={'prompt_feedback': {'block_reason': 0, 'safety_ratings': []}, 'finish_reason': 'STOP', 'model_name': 'gemini-2.0-flash', 'safety_ratings': []}, id='run--2532249f-284c-451a-8dda-fbd5aa439565-0', usage_metadata={'input_tokens': 2867, 'output_tokens': 62, 'total_tokens': 2929, 'input_token_details': {'cache_read': 0}})]}, next=(), config={'configurable': {'thread_id': '1', 'checkpoint_ns': '', 'checkpoint_id': '1f089585-d760-6a9e-800b-ec02d80a8eb2'}}, metadata={'source': 'loop', 'step': 11, 'parents': {}}, created_at='2025-09-04T06:28:26.662968+00:00', parent_config={'configurable': {'thread_id': '1', 'checkpoint_ns': '', 'checkpoint_id': '1f089585-cb38-6db7-800a-47b2a44a6918'}}, tasks=(), interrupts=())"
      ]
     },
     "execution_count": 9,
     "metadata": {},
     "output_type": "execute_result"
    }
   ],
   "source": [
    "graph.get_state(config)"
   ]
  }
 ],
 "metadata": {
  "kernelspec": {
   "display_name": ".venv (3.13.7)",
   "language": "python",
   "name": "python3"
  },
  "language_info": {
   "codemirror_mode": {
    "name": "ipython",
    "version": 3
   },
   "file_extension": ".py",
   "mimetype": "text/x-python",
   "name": "python",
   "nbconvert_exporter": "python",
   "pygments_lexer": "ipython3",
   "version": "3.13.7"
  }
 },
 "nbformat": 4,
 "nbformat_minor": 5
}
