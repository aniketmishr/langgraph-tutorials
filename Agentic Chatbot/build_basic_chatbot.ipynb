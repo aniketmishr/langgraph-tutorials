{
 "cells": [
  {
   "cell_type": "code",
   "execution_count": 1,
   "id": "1eb7cc60",
   "metadata": {},
   "outputs": [],
   "source": [
    "from dotenv import load_dotenv\n",
    "from typing import Annotated, TypedDict\n",
    "from langgraph.graph import StateGraph, START, END\n",
    "from langgraph.graph.message import add_messages\n",
    "from langchain.chat_models import init_chat_model\n",
    "from langchain_core.messages import SystemMessage, HumanMessage, AIMessage\n",
    "import operator"
   ]
  },
  {
   "cell_type": "code",
   "execution_count": 2,
   "id": "e9806b39",
   "metadata": {},
   "outputs": [
    {
     "data": {
      "text/plain": [
       "True"
      ]
     },
     "execution_count": 2,
     "metadata": {},
     "output_type": "execute_result"
    }
   ],
   "source": [
    "load_dotenv()"
   ]
  },
  {
   "cell_type": "code",
   "execution_count": 3,
   "id": "ec839e79",
   "metadata": {},
   "outputs": [],
   "source": [
    "# creating the state for the chatbot\n",
    "\n",
    "class State(TypedDict): \n",
    "    messages: Annotated[list, add_messages] # operator.add would also work"
   ]
  },
  {
   "cell_type": "code",
   "execution_count": 4,
   "id": "b0f796e9",
   "metadata": {},
   "outputs": [],
   "source": [
    "llm = init_chat_model(\"google_genai:gemini-2.0-flash\")"
   ]
  },
  {
   "cell_type": "code",
   "execution_count": 8,
   "id": "cdf5eaa5",
   "metadata": {},
   "outputs": [],
   "source": [
    "def chatbot(state: State) : \n",
    "    return {'messages': [AIMessage(llm.invoke(state['messages']).content)]}\n"
   ]
  },
  {
   "cell_type": "code",
   "execution_count": 9,
   "id": "28230b21",
   "metadata": {},
   "outputs": [
    {
     "data": {
      "image/png": "[encoded data removed]",
      "text/plain": [
       "<langgraph.graph.state.CompiledStateGraph object at 0x00000215C4405D10>"
      ]
     },
     "execution_count": 9,
     "metadata": {},
     "output_type": "execute_result"
    }
   ],
   "source": [
    "graph_builder = StateGraph(State)\n",
    "graph_builder.add_node('chatbot', chatbot)\n",
    "# add edges\n",
    "graph_builder.add_edge(START, 'chatbot')\n",
    "graph_builder.add_edge('chatbot',END)\n",
    "graph = graph_builder.compile()\n",
    "graph"
   ]
  },
  {
   "cell_type": "code",
   "execution_count": 10,
   "id": "516b7604",
   "metadata": {},
   "outputs": [
    {
     "name": "stdout",
     "output_type": "stream",
     "text": [
      "Assistant: AI agents are intelligent entities that can perceive their environment, reason, and take actions to achieve specific goals. They are essentially computer programs designed to act autonomously and adaptively in dynamic environments. Think of them as digital robots, but instead of physical bodies, they exist in the digital realm and interact with the world through data and code.\n",
      "\n",
      "Here's a breakdown of the key characteristics of AI agents:\n",
      "\n",
      "*   **Perception:** They can sense their environment through various sensors (e.g., cameras, microphones, APIs, databases, user inputs).\n",
      "*   **Reasoning:** They use algorithms and models (e.g., machine learning, logic, planning) to process the information they gather and make decisions.\n",
      "*   **Action:** They can perform actions to influence their environment (e.g., sending emails, controlling devices, making recommendations, providing information).\n",
      "*   **Autonomy:** They operate without constant human intervention, making decisions and taking actions independently based on their programmed goals.\n",
      "*   **Goal-oriented:** They are designed to achieve specific objectives, which can range from simple tasks to complex problem-solving.\n",
      "*   **Adaptability:** They can learn from experience and adjust their behavior over time to improve their performance.\n",
      "\n",
      "**Key Components of an AI Agent:**\n",
      "\n",
      "*   **Sensors:** Devices or mechanisms that allow the agent to perceive its environment.  This could be cameras, microphones, APIs, databases, or even user input fields.\n",
      "*   **Actuators:** Mechanisms that allow the agent to act upon its environment. This could be robotic arms, software commands, display screens, or even sending an email.\n",
      "*   **Knowledge Base:**  A repository of information, rules, and facts that the agent uses for reasoning and decision-making.\n",
      "*   **Reasoning Engine:** The core component that processes information, applies rules, and makes decisions based on the knowledge base and sensor input.\n",
      "*   **Learning Module (Optional):**  Allows the agent to improve its performance over time by learning from its experiences.  This is often based on machine learning algorithms.\n",
      "\n",
      "**Types of AI Agents (Classified by Architecture and Complexity):**\n",
      "\n",
      "*   **Simple Reflex Agents:** These agents react directly to their perceptions based on a set of pre-defined rules. They have no memory of past states and are suitable for simple environments. Example: a thermostat.\n",
      "*   **Model-Based Reflex Agents:** These agents maintain an internal model of the world, allowing them to reason about situations that they haven't encountered before. They use their model to predict the outcome of their actions. Example: a self-driving car using a map and sensor data to navigate.\n",
      "*   **Goal-Based Agents:** These agents have a specific goal in mind and try to choose actions that will lead them to that goal. They use planning algorithms to find the best sequence of actions. Example: a chess-playing AI.\n",
      "*   **Utility-Based Agents:** These agents are similar to goal-based agents, but they also consider the utility (or happiness) of different outcomes. They try to maximize their utility by choosing actions that will lead to the most desirable outcome. Example: a recommendation system that suggests products based on user preferences and predicted satisfaction.\n",
      "*   **Learning Agents:** These agents can learn from their experiences and improve their performance over time. They use machine learning algorithms to update their knowledge and adapt their behavior. Example: a spam filter that learns to identify new types of spam.\n",
      "\n",
      "**Examples of AI Agents in Real Life:**\n",
      "\n",
      "*   **Chatbots:**  Interact with users through text or voice to answer questions, provide customer support, or complete tasks.\n",
      "*   **Recommendation Systems:** Suggest products, movies, or music based on user preferences and past behavior.\n",
      "*   **Self-Driving Cars:**  Navigate roads and avoid obstacles without human intervention.\n",
      "*   **Virtual Assistants:**  Perform tasks on behalf of users, such as setting reminders, making appointments, or controlling smart home devices.\n",
      "*   **Robotics in Manufacturing:** Automate tasks in factories, such as assembly, welding, and painting.\n",
      "*   **Spam Filters:**  Identify and filter out unwanted email messages.\n",
      "*   **Financial Trading Bots:** Execute trades automatically based on market conditions and pre-defined strategies.\n",
      "*   **Search Engines:** Crawl the web and index information to provide relevant search results.\n",
      "\n",
      "**Benefits of Using AI Agents:**\n",
      "\n",
      "*   **Automation:** Automate repetitive and time-consuming tasks.\n",
      "*   **Efficiency:** Improve efficiency and productivity.\n",
      "*   **Accuracy:** Reduce errors and improve accuracy.\n",
      "*   **Personalization:** Provide personalized experiences and recommendations.\n",
      "*   **Scalability:** Scale operations to meet increasing demand.\n",
      "*   **Cost Reduction:** Reduce labor costs and improve resource utilization.\n",
      "*   **24/7 Availability:** Provide services around the clock.\n",
      "\n",
      "**Challenges of Developing AI Agents:**\n",
      "\n",
      "*   **Complexity:** Developing complex and robust AI agents can be challenging.\n",
      "*   **Data Requirements:**  Many AI agents require large amounts of data to train effectively.\n",
      "*   **Ethical Considerations:**  It's important to consider the ethical implications of AI agents, such as bias, fairness, and privacy.\n",
      "*   **Explainability:**  Understanding how AI agents make decisions can be difficult, which can raise concerns about transparency and accountability.\n",
      "*   **Security:**  AI agents can be vulnerable to attacks, which can compromise their performance and security.\n",
      "\n",
      "In summary, AI agents are intelligent systems that can perceive, reason, and act in their environment to achieve specific goals. They are becoming increasingly prevalent in various industries and applications, offering the potential to automate tasks, improve efficiency, and provide personalized experiences.  As AI technology continues to advance, we can expect to see even more sophisticated and capable AI agents emerge in the future.\n",
      "Assistant: LangGraph is a Python library designed to make it easier to build **stateful, multi-actor conversational applications** using Langchain. Think of it as a graph-based framework for orchestrating complex chains of logic, where each node in the graph represents an agent or tool, and the edges represent transitions between them based on the application's current state.\n",
      "\n",
      "In short, LangGraph helps you:\n",
      "\n",
      "*   **Define complex conversational flows visually.**\n",
      "*   **Manage state across multiple turns and agents.**\n",
      "*   **Create more robust and adaptable conversational AI applications.**\n",
      "Assistant: CrewAI is a framework designed to simplify and structure the creation of AI agents that can collaborate to achieve complex goals. It allows you to define agents with specific roles, responsibilities, and tools, and then orchestrate their interactions within a structured workflow.\n",
      "\n",
      "Here's a breakdown of what CrewAI is and its key components:\n",
      "\n",
      "**Core Concept:**\n",
      "\n",
      "*   **Collaborative AI Agents:**  CrewAI enables you to build a team of AI agents that work together, mimicking how human teams function. Each agent has a defined role, purpose, and expertise.\n",
      "\n",
      "**Key Components:**\n",
      "\n",
      "*   **Agents:** The fundamental building block.  Each agent is responsible for a specific task or set of tasks.  You define:\n",
      "    *   **Role:** The agent's function within the crew (e.g., \"Researcher,\" \"Writer,\" \"Project Manager\").\n",
      "    *   **Goal:**  What the agent aims to achieve.\n",
      "    *   **Backstory:** Provides context and personality to the agent, influencing its behavior.\n",
      "    *   **Tools:**  The tools the agent can use to perform its tasks (e.g., search engines, calculators, APIs, local file access).  Tools can be custom-built or use existing integrations.\n",
      "    *   **Memory:**  Whether the agent should retain information from past interactions.\n",
      "    *   **LLM (Large Language Model):** The underlying language model that powers the agent's reasoning and output (e.g., GPT-4, Gemini).  You can configure model parameters like temperature.\n",
      "\n",
      "*   **Tasks:**  Specific assignments given to agents.  You define:\n",
      "    *   **Description:** A clear explanation of what the agent needs to do.\n",
      "    *   **Agent:**  The agent assigned to the task.\n",
      "\n",
      "*   **Crew:**  The container that holds the agents and orchestrates their interactions.  The crew defines:\n",
      "    *   **Agents:** The team of agents that will work together.\n",
      "    *   **Tasks:** The tasks assigned to those agents.\n",
      "    *   **Process:**  How the agents will collaborate (e.g., sequential, hierarchical, concurrent).  CrewAI supports different process types:\n",
      "        *   **Sequential:** Agents work in a defined order, passing results to the next agent.\n",
      "        *   **Hierarchical:**  A manager agent oversees other agents, delegating tasks and synthesizing results.\n",
      "        *   **Concurrent:** Agents work independently and concurrently, potentially sharing information.\n",
      "\n",
      "**Benefits of Using CrewAI:**\n",
      "\n",
      "*   **Structured Collaboration:** Provides a framework for organizing and managing complex AI agent workflows.\n",
      "*   **Modularity:**  Agents can be easily reused and reconfigured for different tasks.\n",
      "*   **Scalability:**  Facilitates the creation of larger and more complex AI-powered systems.\n",
      "*   **Improved Performance:**  By dividing tasks among specialized agents, you can achieve better results than using a single, general-purpose AI.\n",
      "*   **Simplified Development:**  Offers a higher-level abstraction that makes it easier to build sophisticated AI applications without dealing with low-level details.\n",
      "*   **Flexibility:** Supports different collaboration styles (sequential, hierarchical, concurrent) to adapt to various problem domains.\n",
      "\n",
      "**Use Cases:**\n",
      "\n",
      "*   **Research and Analysis:** Automating research tasks by assigning agents to gather information, analyze data, and write reports.\n",
      "*   **Content Creation:** Generating articles, blog posts, or marketing copy by using agents to research topics, write drafts, and edit content.\n",
      "*   **Customer Support:** Building AI-powered customer service agents that can answer questions, resolve issues, and escalate complex cases to human agents.\n",
      "*   **Software Development:**  Automating tasks such as code generation, testing, and deployment.\n",
      "*   **Financial Analysis:**  Using agents to analyze market data, identify investment opportunities, and manage portfolios.\n",
      "\n",
      "**In summary, CrewAI is a powerful framework for building collaborative AI systems. It allows you to define specialized agents, assign them tasks, and orchestrate their interactions to achieve complex goals more effectively than individual AI agents could.**\n",
      "Goodbye!\n"
     ]
    }
   ],
   "source": [
    "def stream_graph_updates(user_input: str):\n",
    "    for event in graph.stream({\"messages\": [HumanMessage(user_input)]}):\n",
    "        for value in event.values():\n",
    "            print(\"Assistant:\", value[\"messages\"][-1].content)\n",
    "\n",
    "\n",
    "while True:\n",
    "    try:\n",
    "        user_input = input(\"User: \")\n",
    "        if user_input.lower() in [\"quit\", \"exit\", \"q\"]:\n",
    "            print(\"Goodbye!\")\n",
    "            break\n",
    "        stream_graph_updates(user_input)\n",
    "    except:\n",
    "        # fallback if input() is not available\n",
    "        user_input = \"What do you know about LangGraph?\"\n",
    "        print(\"User: \" + user_input)\n",
    "        stream_graph_updates(user_input)\n",
    "        break"
   ]
  }
 ],
 "metadata": {
  "kernelspec": {
   "display_name": ".venv (3.13.7)",
   "language": "python",
   "name": "python3"
  },
  "language_info": {
   "codemirror_mode": {
    "name": "ipython",
    "version": 3
   },
   "file_extension": ".py",
   "mimetype": "text/x-python",
   "name": "python",
   "nbconvert_exporter": "python",
   "pygments_lexer": "ipython3",
   "version": "3.13.7"
  }
 },
 "nbformat": 4,
 "nbformat_minor": 5
}
